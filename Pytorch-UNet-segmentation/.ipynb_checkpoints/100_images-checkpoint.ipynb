{
 "cells": [
  {
   "cell_type": "code",
   "execution_count": null,
   "metadata": {},
   "outputs": [],
   "source": [
    "import numpy as np\n",
    "import torch\n",
    "from torchvision import transforms\n",
    "import torch.nn.functional as F\n",
    "import matplotlib.pyplot as plt\n",
    "n_classes = 2\n",
    "a = np.load('testing_preshape_100.npy')\n",
    "\n",
    "for i in a:\n",
    "    final_array = torch.from_numpy(i)\n",
    "    final_array = torch.unsqueeze(final_array,0)\n",
    "    print(final_array.shape)\n",
    "\n",
    "    print('the total number of class = ',n_classes)\n",
    "\n",
    "    probs = F.softmax(final_array,dim=1)[0]\n",
    "\n",
    "    tf = transforms.Compose([\n",
    "        transforms.ToPILImage(),\n",
    "        transforms.ToTensor()\n",
    "    ])\n",
    "\n",
    "    full_mask = tf(probs.cpu()).squeeze()\n",
    "    print(full_mask.shape)\n",
    "    final = F.one_hot(full_mask.argmax(dim=0),2).permute(2,0,1).numpy()\n",
    "    print(final.shape)\n",
    "\n",
    "    plt.imshow(final[1],interpolation='nearest')\n",
    "    # plt.show()\n",
    "    # break\n",
    "\n",
    "    \n",
    "\n",
    "    #return np.argmax(full_masks,axis=0)"
   ]
  }
 ],
 "metadata": {
  "language_info": {
   "name": "python"
  }
 },
 "nbformat": 4,
 "nbformat_minor": 2
}
